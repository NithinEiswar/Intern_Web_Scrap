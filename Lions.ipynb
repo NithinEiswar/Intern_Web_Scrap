{
 "cells": [
  {
   "cell_type": "code",
   "execution_count": 1,
   "metadata": {
    "tags": []
   },
   "outputs": [
    {
     "output_type": "stream",
     "name": "stdout",
     "text": "957\n            Dr. D. Jayaperumal                       M.N.0.     M. Muthukumar\n                                                                Asst. Taluga Office\n            L/L : A. Gitanjali                                  L/L : M. Vasanthavalli\n            D/B: 07.05.1958 W/D : 10.06.1990 B/G :              D/B : 15.07.1963 W/D :         B/G :\n            S9, S. Road, CECRI,                                 No.23, Valluvarsalai Thilagar Nagar,\n            Karaikudi.                                          Sekkalai Road, Karaikudi.\n            M : 9542350325                                      M : 98.431 19250\n            Dr. K. Kausalya                          M.N.0.     C. Naveen Kumar\n            Private DOCt0r                                      Scientist\n            L/H. D.G. Balasubramanian                      --   L/L : A. Chandrasekaran\n            D/B :            W/D : 01.02.2016 B/G :      -      D/B: 12,07.1983 W/D:           B/G :\n            Meyyapalakshmi Towers,                         º    J-39, CECRI Quarters, CECRI\n            29, 3rd Street, TT Nagar, Karaikudi - 1.   --~~~    Karaikudi - 6.\n            M : 9402398237                                    W M : 94426 08829\n            K. Mahalingam                            M.N.0.     Dr. B. Ramesh Babu\n            Scientist\n            L/L : M. Ganapathy                                  L/L : Dr. R. Vijayarani\n            D/B: 04.05.1982 W/D : 08.04.2012 B/G :              D/B: 25.05.1966 W/D :         B/G :\n            957, Thiruvee Kass Street, Near Thilagar            Plot No. 2, 3rd Street,\n            Nagar, Annai Valankanni Matric. School,           | S000amanipuram, Karaikudi.\n            Karaikudi - 630 002. M : 98.439 42835               M : 94421 34088, Ph: 04565-224088\nM.N.O.      S. Malar                                 M.N.0.     K.R. Selvan\n            House Wife                                          President Village\n    ſM      L/L : K.R. Selvam                                   L/L : S. Malar\n      -     D/B :            W/D :            B/G :             D/B: 21,07.1974 W/D :          B/G :\n      -     Theerani Village, Sarugani (P0),                    Theerani Sarugani P0,\n       -ºº: Devakottai, Sivagangai District.                    Dewakottai, Sivagangai\n     ºf M. g767800493                                           M : 97878 00493\nM.N.O.      Mayan Parimalam                          M.N.0.     S. Venkatesan\n                                                                SCientist CECRI\n            L/L : P. Vembavalli                                 L/L : S. Kalaimathi\n            D/B ; 29.10.1964 W/D 22.08.1996 B/G :               D/B: 01.07.1978 W/D 22.05.2011 B/G :\n            Tamiler Street,                                     J.48 J Road, CECRI,\n            Kallaſ - 630 305.                                   Karaikudi - 630 003.\n            M : 9865540606                                      M : 9791889.737\n            G. Mullaikodi                            M.N.0.     Dr. R. Vijayarani\n            House Wife\n            L/L : S. Gopalkrishnan\n            D/B 28.11.1988 W/D :              B/G :\n                                                          º     L/H. Dr. B. Ramesh Babu\n                                                                D/B :           W/D :        B/G :\n            N-5, CECRI Quarters, CECRI                      - Plot No. 2, 3rd Street,\n            Karaikudi - 630 006.                            -   S000amanipuram, Karaikudi.\n            M : 9952243066                                      M : 94788 34088, Ph: 04565-224088\n\n"
    }
   ],
   "source": [
    "import pdftotext\n",
    "\n",
    "# Load your PDF\n",
    "with open(\"/home/nithin/Downloads/Lions_324B3_District_Directory.pdf\", \"rb\") as f:\n",
    "    pdf = pdftotext.PDF(f)\n",
    "\n",
    "print(len(pdf))\n",
    "print(pdf[499])"
   ]
  },
  {
   "cell_type": "code",
   "execution_count": 17,
   "metadata": {
    "tags": []
   },
   "outputs": [
    {
     "output_type": "stream",
     "name": "stdout",
     "text": "None\n"
    }
   ],
   "source": [
    "# miner_text_generator.py\n",
    "\n",
    "import io\n",
    "from pdfminer.converter import TextConverter\n",
    "from pdfminer.pdfinterp import PDFPageInterpreter\n",
    "from pdfminer.pdfinterp import PDFResourceManager\n",
    "from pdfminer.pdfpage import PDFPage\n",
    "pages = [\"\" for x in range(957)]\n",
    "def extract_text_by_page(pdf_path):\n",
    "    with open(pdf_path, 'rb') as fh:\n",
    "        for page in PDFPage.get_pages(fh, \n",
    "                                      caching=True,\n",
    "                                      check_extractable=True):\n",
    "            resource_manager = PDFResourceManager()\n",
    "            fake_file_handle = io.StringIO()\n",
    "            converter = TextConverter(resource_manager, fake_file_handle)\n",
    "            page_interpreter = PDFPageInterpreter(resource_manager, converter)\n",
    "            page_interpreter.process_page(page)\n",
    "            \n",
    "            text = fake_file_handle.getvalue()\n",
    "            yield text\n",
    "    \n",
    "            # close open handles\n",
    "            converter.close()\n",
    "            fake_file_handle.close()\n",
    "    \n",
    "def extract_text(pdf_path,i):\n",
    "    for page in extract_text_by_page(pdf_path):\n",
    "        pages[i]=page\n",
    "        i=i+1\n",
    "if __name__ == '__main__':\n",
    "    print(extract_text('/home/nithin/Downloads/Lions_324B3_District_Directory.pdf',0))"
   ]
  },
  {
   "cell_type": "code",
   "execution_count": 10,
   "metadata": {},
   "outputs": [
    {
     "output_type": "execute_result",
     "data": {
      "text/plain": "str"
     },
     "metadata": {},
     "execution_count": 10
    }
   ],
   "source": [
    "type(pdf[499])"
   ]
  },
  {
   "cell_type": "code",
   "execution_count": 18,
   "metadata": {},
   "outputs": [
    {
     "output_type": "execute_result",
     "data": {
      "text/plain": "'Dr.D.JayaperumalM.N.0.M.MuthukumarL/L:A.GitanjaliD/B:07.05.1958W/D:10.06.1990B/G:S9,S.Road,CECRI,Karaikudi.M:9542350325Dr.K.KausalyaPrivateDOCt0rL/H.D.G.BalasubramanianD/B:W/D:01.02.2016B/G:MeyyapalakshmiTowers,M:9402398237K.MahalingamScientistL/L:M.GanapathyD/B:04.05.1982W/D:08.04.2012B/G:M.N.O.S.MalarHouseWifeſML/L:K.R.Selvam-D/B:W/D:B/G:-TheeraniVillage,Sarugani(P0),-ºº:Devakottai,SivagangaiDistrict.ºfM.g767800493M.N.O.MayanParimalamL/L:P.VembavalliD/B;29.10.1964W/D22.08.1996B/G:TamilerStreet,Kallaſ-630305.M:9865540606G.MullaikodiHouseWifeL/L:S.GopalkrishnanD/B28.11.1988W/D:B/G:N-5,CECRIQuarters,CECRIKaraikudi-630006.M:995224306629,3rdStreet,TTNagar,Karaikudi-1.957,ThiruveeKassStreet,NearThilagarNagar,AnnaiValankanniMatric.School,Karaikudi-630002.M:98.43942835Asst.TalugaOfficeL/L:M.VasanthavalliD/B:15.07.1963W/D:B/G:No.23,ValluvarsalaiThilagarNagar,SekkalaiRoad,Karaikudi.M:98.43119250M.N.0.C.NaveenKumarScientist--L/L:A.Chandrasekaran-D/B:12,07.1983W/D:B/G:ºJ-39,CECRIQuarters,CECRI--~~~Karaikudi-6.WM:9442608829M.N.0.Dr.B.RameshBabuL/L:Dr.R.VijayaraniD/B:25.05.1966W/D:B/G:PlotNo.2,3rdStreet,|S000amanipuram,Karaikudi.M:9442134088,Ph:04565-224088M.N.0.K.R.SelvanPresidentVillageL/L:S.MalarD/B:21,07.1974W/D:B/G:TheeraniSaruganiP0,Dewakottai,SivagangaiM:9787800493M.N.0.S.VenkatesanSCientistCECRIL/L:S.KalaimathiD/B:01.07.1978W/D22.05.2011B/G:J.48JRoad,CECRI,Karaikudi-630003.M:9791889.737M.N.0.Dr.R.VijayaraniºL/H.Dr.B.RameshBabuD/B:W/D:B/G:-PlotNo.2,3rdStreet,-S000amanipuram,Karaikudi.M:9478834088,Ph:04565-224088\\x0c'"
     },
     "metadata": {},
     "execution_count": 18
    }
   ],
   "source": [
    "pages[499]"
   ]
  },
  {
   "cell_type": "code",
   "execution_count": 2,
   "metadata": {
    "tags": []
   },
   "outputs": [
    {
     "output_type": "stream",
     "name": "stdout",
     "text": "957\n    Dr. D. Jayaperumal                           M.No.  M. Muthukumar\n                                                        Asst. Taluga Office\n    L/L: A. Gitanjali                                   L/L: M. Vasanthavalli\n    D/B : 07.05.1958 W/D : 10.06.1990 B/G:              D/B: 15.07.1963 W/D:               B/G:\n    S9, S. Road, CECRI,                                 No.23, Valluvarsalai Thilagar Nagar,\n    Karaikudi.                                          Sekkalai Road, Karaikudi.\n    M : 95423 50325                                     M : 98431 19250\n    Dr. K. Kausalya                                     C. Naveen Kumar\n    Private Doctor                                      Scientist\n    L/H : DG. Balasubramanian                           L/L: A. Chandrasekaran\n    D/B :             W/D : 01.02.2016 B/G:             D/B : 12.07.1983 W/D:              B/G:\n    Meyyapalakshmi Towers,                              J-39, CECRI Quarters, CECRI\n    29, 3rd Street, TT Nagar, Karaikudi - 1.            Karaikudi - 6.\n    M : 94023 98237                                     M : 94426 08829\n    K. Mahalingam                                       Dr. B. Ramesh            Babu\n    scientist\n    L/L: M. Ganapathy                                   L/L: Dr. R. Vijayarani\n    D/B : 04.05.1982 W/D : 08.04.2012   B/G:            D/B : 25.05.1966 W/D :           B/G:\n    957, Thiruvee Kass Street, Near     Thilagar        Plot No. 2, 3rd Street,\n    Nagar, Annai Valankanni Matric.     School,         Soodamanipuram, Karaikudi.\n    Karaikudi - 630 002. M : 98439     42835            M : 94421 34088, Ph : 04565-224088\n    S. Malar                                            K.R. Selvan\n    House Wife                                          President Village\n    L/L: K.R. Selvam                                    L/L: $. Malar\n    D/B :            WID :              B/G:            D/B: 21.07.1974 W/D:               B/G:\n    Theerani Village, Sarugani (PO),                    Theerani Sarugani PO,\n  ~ Devakottai, Sivagangai District.                    Devakottai, Sivagangai\n    M : 97878 00493                                     M : 97878 00493\n    Mayan Parimalam                                     S. Venkatesan\n                                                        Scientist CECRI\n    L/L: P. Vembavalli                                  L/L: S. Kalaimathi\n    D/B : 29.10.1964 W/D : 22.08.1996 B/G:              D/B: 01.07.1978 W/D : 22.05.2011 B/G:\n    Tamiler Street,                                     J.48 J Road, CECRI,\n    Kallal - 630 305.                                   Karaikudi - 630 003.\n    M : 98655 40606                                     M : 97918 89737\n    G. Mullaikodi                                       Dr. R. Vijayarani\n    House Wife\n    L/L: $. Gopalkrishnan                               L/H : Dr. B. Ramesh Babu\n    D/B : 28.11.1988 W/D:               B/G:           D/B :            W/D:            B/G:\n    N-5, CECRI Quarters, CECRI                          Plot No. 2, 3rd Street,\n®* Karaikudi - 630 006.                                 Soodamanipuram, Karaikudi.\n    M : 99522 43066                                     M : 94788 34088, Ph : 04565-224088\n                                               487\n\n"
    }
   ],
   "source": [
    "import pdftotext\n",
    "\n",
    "# Load your PDF\n",
    "with open(\"/home/nithin/Downloads/Lions.pdf\", \"rb\") as f:\n",
    "    pdf = pdftotext.PDF(f)\n",
    "\n",
    "print(len(pdf))\n",
    "print(pdf[499])"
   ]
  },
  {
   "cell_type": "code",
   "execution_count": 3,
   "metadata": {},
   "outputs": [],
   "source": [
    "import re"
   ]
  },
  {
   "cell_type": "code",
   "execution_count": 39,
   "metadata": {
    "tags": []
   },
   "outputs": [
    {
     "output_type": "stream",
     "name": "stdout",
     "text": "95423 50325\n98431 19250\n94023 98237\n94426 08829\n98439     42835\n94421 34088\n97878 00493\n97878 00493\n98655 40606\n97918 89737\n99522 43066\n94788 34088\n"
    }
   ],
   "source": [
    "for i in re.findall(r\"\\+?\\d[\\d -]{8,14}\\d\", pdf[499]):\n",
    "    if i[0]!='0':\n",
    "        print(i)"
   ]
  },
  {
   "cell_type": "code",
   "execution_count": null,
   "metadata": {},
   "outputs": [],
   "source": []
  }
 ],
 "metadata": {
  "language_info": {
   "codemirror_mode": {
    "name": "ipython",
    "version": 3
   },
   "file_extension": ".py",
   "mimetype": "text/x-python",
   "name": "python",
   "nbconvert_exporter": "python",
   "pygments_lexer": "ipython3",
   "version": "3.7.4-final"
  },
  "orig_nbformat": 2,
  "kernelspec": {
   "name": "python3",
   "display_name": "Python 3"
  }
 },
 "nbformat": 4,
 "nbformat_minor": 2
}