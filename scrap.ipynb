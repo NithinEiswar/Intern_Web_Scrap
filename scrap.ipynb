{
 "cells": [
  {
   "cell_type": "code",
   "execution_count": 1,
   "metadata": {
    "tags": []
   },
   "outputs": [
    {
     "output_type": "stream",
     "name": "stdout",
     "text": "957\n            Dr. D. Jayaperumal                       M.N.0.     M. Muthukumar\n                                                                Asst. Taluga Office\n            L/L : A. Gitanjali                                  L/L : M. Vasanthavalli\n            D/B: 07.05.1958 W/D : 10.06.1990 B/G :              D/B : 15.07.1963 W/D :         B/G :\n            S9, S. Road, CECRI,                                 No.23, Valluvarsalai Thilagar Nagar,\n            Karaikudi.                                          Sekkalai Road, Karaikudi.\n            M : 9542350325                                      M : 98.431 19250\n            Dr. K. Kausalya                          M.N.0.     C. Naveen Kumar\n            Private DOCt0r                                      Scientist\n            L/H. D.G. Balasubramanian                      --   L/L : A. Chandrasekaran\n            D/B :            W/D : 01.02.2016 B/G :      -      D/B: 12,07.1983 W/D:           B/G :\n            Meyyapalakshmi Towers,                         º    J-39, CECRI Quarters, CECRI\n            29, 3rd Street, TT Nagar, Karaikudi - 1.   --~~~    Karaikudi - 6.\n            M : 9402398237                                    W M : 94426 08829\n            K. Mahalingam                            M.N.0.     Dr. B. Ramesh Babu\n            Scientist\n            L/L : M. Ganapathy                                  L/L : Dr. R. Vijayarani\n            D/B: 04.05.1982 W/D : 08.04.2012 B/G :              D/B: 25.05.1966 W/D :         B/G :\n            957, Thiruvee Kass Street, Near Thilagar            Plot No. 2, 3rd Street,\n            Nagar, Annai Valankanni Matric. School,           | S000amanipuram, Karaikudi.\n            Karaikudi - 630 002. M : 98.439 42835               M : 94421 34088, Ph: 04565-224088\nM.N.O.      S. Malar                                 M.N.0.     K.R. Selvan\n            House Wife                                          President Village\n    ſM      L/L : K.R. Selvam                                   L/L : S. Malar\n      -     D/B :            W/D :            B/G :             D/B: 21,07.1974 W/D :          B/G :\n      -     Theerani Village, Sarugani (P0),                    Theerani Sarugani P0,\n       -ºº: Devakottai, Sivagangai District.                    Dewakottai, Sivagangai\n     ºf M. g767800493                                           M : 97878 00493\nM.N.O.      Mayan Parimalam                          M.N.0.     S. Venkatesan\n                                                                SCientist CECRI\n            L/L : P. Vembavalli                                 L/L : S. Kalaimathi\n            D/B ; 29.10.1964 W/D 22.08.1996 B/G :               D/B: 01.07.1978 W/D 22.05.2011 B/G :\n            Tamiler Street,                                     J.48 J Road, CECRI,\n            Kallaſ - 630 305.                                   Karaikudi - 630 003.\n            M : 9865540606                                      M : 9791889.737\n            G. Mullaikodi                            M.N.0.     Dr. R. Vijayarani\n            House Wife\n            L/L : S. Gopalkrishnan\n            D/B 28.11.1988 W/D :              B/G :\n                                                          º     L/H. Dr. B. Ramesh Babu\n                                                                D/B :           W/D :        B/G :\n            N-5, CECRI Quarters, CECRI                      - Plot No. 2, 3rd Street,\n            Karaikudi - 630 006.                            -   S000amanipuram, Karaikudi.\n            M : 9952243066                                      M : 94788 34088, Ph: 04565-224088\n\n"
    }
   ],
   "source": [
    "import pdftotext\n",
    "\n",
    "# Load your PDF\n",
    "with open(\"/home/nithin/Downloads/Lions_324B3_District_Directory.pdf\", \"rb\") as f:\n",
    "    pdf = pdftotext.PDF(f)\n",
    "\n",
    "print(len(pdf))\n",
    "print(pdf[499])"
   ]
  },
  {
   "cell_type": "code",
   "execution_count": null,
   "metadata": {},
   "outputs": [],
   "source": []
  }
 ],
 "metadata": {
  "language_info": {
   "codemirror_mode": {
    "name": "ipython",
    "version": 3
   },
   "file_extension": ".py",
   "mimetype": "text/x-python",
   "name": "python",
   "nbconvert_exporter": "python",
   "pygments_lexer": "ipython3",
   "version": "3.7.4-final"
  },
  "orig_nbformat": 2,
  "kernelspec": {
   "name": "python3",
   "display_name": "Python 3"
  }
 },
 "nbformat": 4,
 "nbformat_minor": 2
}